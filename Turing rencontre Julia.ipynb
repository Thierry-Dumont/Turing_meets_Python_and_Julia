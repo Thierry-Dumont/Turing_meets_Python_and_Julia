{
 "cells": [
  {
   "cell_type": "markdown",
   "metadata": {},
   "source": [
    "### Théorème de l'Arrêt (Turing) en Julia.\n",
    "##### Adapté de \"The Unknowable\" de Gregory J. Chaitin.\n",
    "(Springer, 1999, ISBN 981-4021-72-5)."
   ]
  },
  {
   "cell_type": "markdown",
   "metadata": {},
   "source": [
    "Commençons par une constatation qui peut paraitre surprenante. Definissons la fonction:"
   ]
  },
  {
   "cell_type": "code",
   "execution_count": null,
   "metadata": {},
   "outputs": [],
   "source": [
    "function f(x)\n",
    "  x == f\n",
    "end"
   ]
  },
  {
   "cell_type": "markdown",
   "metadata": {},
   "source": [
    "On a bien sûr :"
   ]
  },
  {
   "cell_type": "code",
   "execution_count": null,
   "metadata": {},
   "outputs": [],
   "source": [
    "f(1)"
   ]
  },
  {
   "cell_type": "markdown",
   "metadata": {},
   "source": [
    "mais on a :"
   ]
  },
  {
   "cell_type": "code",
   "execution_count": null,
   "metadata": {},
   "outputs": [],
   "source": [
    "f(f)"
   ]
  },
  {
   "cell_type": "markdown",
   "metadata": {},
   "source": [
    "**_Ainsi, on a un moyen de faire \"travailler\" un programme (une fonction) sur lui (elle) même._**\n",
    "\n",
    "Remarque: on peut comme ça construire des \"points fixes\":\n"
   ]
  },
  {
   "cell_type": "code",
   "execution_count": null,
   "metadata": {},
   "outputs": [],
   "source": [
    "f(x)=x"
   ]
  },
  {
   "cell_type": "markdown",
   "metadata": {},
   "source": [
    "on a :"
   ]
  },
  {
   "cell_type": "code",
   "execution_count": null,
   "metadata": {},
   "outputs": [],
   "source": [
    "f(f)==f"
   ]
  },
  {
   "cell_type": "markdown",
   "metadata": {},
   "source": [
    "On a donc construit un _point fixe_. "
   ]
  },
  {
   "cell_type": "markdown",
   "metadata": {},
   "source": [
    "juste pour illustrer:"
   ]
  },
  {
   "cell_type": "code",
   "execution_count": null,
   "metadata": {},
   "outputs": [],
   "source": [
    "f(f(f(f)))==f"
   ]
  },
  {
   "cell_type": "markdown",
   "metadata": {},
   "source": [
    "#### Le théorème de l'Arret."
   ]
  },
  {
   "cell_type": "markdown",
   "metadata": {},
   "source": [
    "On suppose d'abord qu'on a une fonction \"halts\" qui va répondre True ou False selon que le programme (la fonction) \n",
    "passée en argument s'arrête ou pas. \n",
    "Rappelons que notre but est de montrer qu'une telle fonction (qui prévoit l'arrêt ou non d'un programme) ne peut pas exister.\n",
    "Commençons par supposer que \"halts\" renvoit False :"
   ]
  },
  {
   "cell_type": "code",
   "execution_count": null,
   "metadata": {},
   "outputs": [],
   "source": [
    "function halts(prog)\n",
    "    false\n",
    "end"
   ]
  },
  {
   "cell_type": "markdown",
   "metadata": {},
   "source": [
    "Définissons une fonction \"Turing\" qui boucle indéfiniment si son argument est un programme qui s'arrête (selon la fonction \"halts\") et qui s'arrête sinon."
   ]
  },
  {
   "cell_type": "code",
   "execution_count": null,
   "metadata": {},
   "outputs": [],
   "source": [
    "function Turing(s)\n",
    "    if halts(s)\n",
    "        println(\"will stop\")\n",
    "        s(s)# this will loop for ever, but a stack overflow will occur\n",
    "    else\n",
    "        println(\"will loop forever\")\n",
    "        s\n",
    "    end\n",
    "    \n",
    "end"
   ]
  },
  {
   "cell_type": "code",
   "execution_count": null,
   "metadata": {},
   "outputs": [],
   "source": [
    "Turing(Turing)\n",
    "print(\"stop\")"
   ]
  },
  {
   "cell_type": "markdown",
   "metadata": {},
   "source": [
    "Et donc Turing(Turing) s'arrête, alors que:"
   ]
  },
  {
   "cell_type": "code",
   "execution_count": null,
   "metadata": {},
   "outputs": [],
   "source": [
    "halts(Turing)"
   ]
  },
  {
   "cell_type": "markdown",
   "metadata": {},
   "source": [
    "On a bien:"
   ]
  },
  {
   "cell_type": "code",
   "execution_count": null,
   "metadata": {},
   "outputs": [],
   "source": [
    "Turing(Turing)==Turing"
   ]
  },
  {
   "cell_type": "markdown",
   "metadata": {},
   "source": [
    "Changeons la valeur revoyée par \"halts\":"
   ]
  },
  {
   "cell_type": "code",
   "execution_count": null,
   "metadata": {},
   "outputs": [],
   "source": [
    "function halts(prog)\n",
    "    true\n",
    "end"
   ]
  },
  {
   "cell_type": "code",
   "execution_count": null,
   "metadata": {},
   "outputs": [],
   "source": [
    "halts(Turing)"
   ]
  },
  {
   "cell_type": "markdown",
   "metadata": {},
   "source": [
    "**A l'inverse de ce que dit \"halts\", Turing(Turing) va boucler indéfiniment.**\n",
    "\n",
    "(en pratique, une débordement de pile va se produire -enlever l'ordre print(\"will stop\") fait boucler le programme indéfiniment):"
   ]
  },
  {
   "cell_type": "code",
   "execution_count": null,
   "metadata": {},
   "outputs": [],
   "source": [
    "Turing(Turing)"
   ]
  },
  {
   "cell_type": "markdown",
   "metadata": {},
   "source": [
    "### Donc, on a fabriqué un programme qui:\n",
    "\n",
    "* ### boucle quand \"halts\" indique qu'il s'arrête,\n",
    "\n",
    "* ### s'arrête sinon.\n",
    "\n",
    "### ce qui est contradictoire avec l'existence d'une fonction \"halts\" qui prédirait l'arrêt on non d'un programme."
   ]
  }
 ],
 "metadata": {
  "kernelspec": {
   "display_name": "Julia 1.1.1",
   "language": "julia",
   "name": "julia-1.1"
  },
  "language_info": {
   "file_extension": ".jl",
   "mimetype": "application/julia",
   "name": "julia",
   "version": "1.1.1"
  }
 },
 "nbformat": 4,
 "nbformat_minor": 2
}
